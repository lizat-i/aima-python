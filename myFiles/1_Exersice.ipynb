{
 "cells": [
  {
   "cell_type": "code",
   "execution_count": 2,
   "id": "d43ebd90",
   "metadata": {},
   "outputs": [],
   "source": [
    "# Import shit\n",
    "from search import *\n",
    "from notebook import psource, heatmap, gaussian_kernel, show_map, final_path_colors, display_visual, plot_NQueens\n",
    "\n",
    "# Needed to hide warnings in the matplotlib sections\n",
    "import warnings\n",
    "warnings.filterwarnings(\"ignore\")\n",
    "%matplotlib inline\n",
    "import networkx as nx\n",
    "import matplotlib.pyplot as plt\n",
    "from matplotlib import lines\n",
    "\n",
    "from ipywidgets import interact\n",
    "import ipywidgets as widgets\n",
    "from IPython.display import display\n",
    "import time\n"
   ]
  },
  {
   "cell_type": "code",
   "execution_count": 6,
   "id": "b833ebd5",
   "metadata": {},
   "outputs": [],
   "source": [
    "# Example 2.1 Graph Search\n",
    "\n",
    "EX_1_tree = UndirectedGraph(dict(\n",
    "    A = dict(B=1, C=2 , D=4),\n",
    "    B = dict(E=2),\n",
    "    D = dict(F=1),\n",
    "\n",
    "))\n",
    "\n",
    "EX_1_tree.locations = dict(\n",
    "    A = (35, 40), \n",
    "    B = (15, 20), C = (35, 20), D = (55, 20),\n",
    "    E = (15, 10), F = (55, 10)\n",
    ")\n",
    "\n",
    "# node colors, node positions and node label positions\n",
    "node_colors = {node: 'white' for node in EX_1_tree.locations.keys()}\n",
    "node_positions = EX_1_tree.locations\n",
    "node_label_pos = { k:[v[0]-3,v[1]]  for k,v in EX_1_tree.locations.items() }\n",
    "edge_weights = {(k, k2) : v2 for k, v in EX_1_tree.graph_dict.items() for k2, v2 in v.items()}\n",
    "\n",
    "EX_1_tree_data = {  'graph_dict' : EX_1_tree.graph_dict,\n",
    "                      'node_colors': node_colors,\n",
    "                      'node_positions': node_positions,\n",
    "                      'node_label_positions': node_label_pos,\n",
    "                      'edge_weights': edge_weights\n",
    "                     }"
   ]
  },
  {
   "cell_type": "code",
   "execution_count": 7,
   "id": "6fcf1d69",
   "metadata": {},
   "outputs": [
    {
     "name": "stdout",
     "output_type": "stream",
     "text": [
      "<search.GraphProblem object at 0x7fecf186add0>\n"
     ]
    },
    {
     "ename": "TypeError",
     "evalue": "cannot unpack non-iterable Node object",
     "output_type": "error",
     "traceback": [
      "\u001b[0;31m---------------------------------------------------------------------------\u001b[0m",
      "\u001b[0;31mTypeError\u001b[0m                                 Traceback (most recent call last)",
      "\u001b[0;32m/tmp/ipykernel_399166/583743586.py\u001b[0m in \u001b[0;36m<module>\u001b[0;34m\u001b[0m\n\u001b[1;32m      3\u001b[0m \u001b[0mBFS_problem\u001b[0m \u001b[0;34m=\u001b[0m \u001b[0mGraphProblem\u001b[0m\u001b[0;34m(\u001b[0m\u001b[0;34m'A'\u001b[0m\u001b[0;34m,\u001b[0m \u001b[0;34m'F'\u001b[0m\u001b[0;34m,\u001b[0m \u001b[0mEX_1_tree\u001b[0m\u001b[0;34m)\u001b[0m\u001b[0;34m\u001b[0m\u001b[0;34m\u001b[0m\u001b[0m\n\u001b[1;32m      4\u001b[0m \u001b[0mprint\u001b[0m\u001b[0;34m(\u001b[0m\u001b[0mBFS_problem\u001b[0m\u001b[0;34m)\u001b[0m\u001b[0;34m\u001b[0m\u001b[0;34m\u001b[0m\u001b[0m\n\u001b[0;32m----> 5\u001b[0;31m \u001b[0ma\u001b[0m\u001b[0;34m,\u001b[0m \u001b[0mb\u001b[0m\u001b[0;34m,\u001b[0m \u001b[0mc\u001b[0m \u001b[0;34m=\u001b[0m \u001b[0mbreadth_first_graph_search\u001b[0m\u001b[0;34m(\u001b[0m\u001b[0mBFS_problem\u001b[0m\u001b[0;34m)\u001b[0m\u001b[0;34m\u001b[0m\u001b[0;34m\u001b[0m\u001b[0m\n\u001b[0m\u001b[1;32m      6\u001b[0m display_steps(EX_1_tree_data, user_input=False, \n\u001b[1;32m      7\u001b[0m               \u001b[0malgorithm\u001b[0m\u001b[0;34m=\u001b[0m\u001b[0mbreadth_first_graph_search\u001b[0m\u001b[0;34m,\u001b[0m\u001b[0;34m\u001b[0m\u001b[0;34m\u001b[0m\u001b[0m\n",
      "\u001b[0;31mTypeError\u001b[0m: cannot unpack non-iterable Node object"
     ]
    }
   ],
   "source": [
    "# Solve using breadth first graph search\n",
    "all_node_colors = []\n",
    "BFS_problem = GraphProblem('A', 'F', EX_1_tree)\n",
    "\n",
    "a, b, c = breadth_first_graph_search(BFS_problem)\n",
    "display_steps(EX_1_tree_data, user_input=False, \n",
    "              algorithm=breadth_first_graph_search, \n",
    "              problem=BFS_problem)"
   ]
  },
  {
   "cell_type": "code",
   "execution_count": null,
   "id": "c662f61a",
   "metadata": {},
   "outputs": [],
   "source": []
  }
 ],
 "metadata": {
  "kernelspec": {
   "display_name": "Python [conda env:AI_AIMA] *",
   "language": "python",
   "name": "conda-env-AI_AIMA-py"
  },
  "language_info": {
   "codemirror_mode": {
    "name": "ipython",
    "version": 3
   },
   "file_extension": ".py",
   "mimetype": "text/x-python",
   "name": "python",
   "nbconvert_exporter": "python",
   "pygments_lexer": "ipython3",
   "version": "3.7.11"
  }
 },
 "nbformat": 4,
 "nbformat_minor": 5
}
